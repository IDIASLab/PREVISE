{
 "cells": [
  {
   "cell_type": "code",
   "execution_count": null,
   "id": "ef83d8f0",
   "metadata": {
    "scrolled": false
   },
   "outputs": [],
   "source": [
    "import pandas as pd\n",
    "import matplotlib.pyplot as plt\n",
    "import seaborn as sns\n",
    "import numpy as np\n",
    "import os\n",
    "import random as rn\n",
    "from datetime import datetime as dt\n",
    "from datetime import timedelta\n",
    "import bnlearn as bn\n",
    "\n",
    "\n",
    "%run Functions.ipynb\n"
   ]
  },
  {
   "cell_type": "code",
   "execution_count": null,
   "id": "fcc84f24",
   "metadata": {},
   "outputs": [],
   "source": [
    "df = pd.read_csv(\"ToyDataset.csv\").drop(['Unnamed: 0'],axis=1)\n",
    "df[\"EntryDate\"] = pd.to_datetime(df['EntryDate'])\n",
    "df[\"ExitDate\"] = pd.to_datetime(df['ExitDate'])\n",
    "df = df.sort_values([\"EntryDate\",'ExitDate']).reset_index(drop=True)\n",
    "\n",
    "data = df[['ClientID','EntryDate','ExitDate','Destination','ProjectType','ProjectID']]\n",
    "\n"
   ]
  },
  {
   "cell_type": "code",
   "execution_count": null,
   "id": "b1677fb0",
   "metadata": {
    "scrolled": false
   },
   "outputs": [],
   "source": [
    "accuracy_df = pd.DataFrame()\n",
    "precision_recall_df = pd.DataFrame()\n",
    "class_PR = pd.DataFrame()\n",
    "pred = pd.DataFrame()\n",
    "K=3\n",
    "bnlearn_data = data_prep(data,K)\n",
    "n = 1\n",
    "test_length = int(len(data)*0.2)\n",
    "test = bnlearn_data.iloc[0:test_length]\n",
    "train = bnlearn_data.drop(test.index)  \n",
    "\n",
    "\n",
    "\n",
    "# Model\n",
    "print('Model')\n",
    "DAG = parameter_learning(train,K)\n",
    "prediction = predict(test,DAG,K)\n",
    "prediction_labelled = prediction.copy()\n",
    "for a in np.sort(prediction['Predicted pK'].unique()): \n",
    "    prediction_labelled['Predicted pK'].replace(a,np.sort(train['PT'+str(K+1)].unique())[int(a)],inplace=True )       \n",
    "accuracy_df = accuracy_df.append({\"Model\":\"PREVISE\",\"K\":K,\"CV\":n,\"Accuracy for exit\":accuracy(prediction_labelled)[0],\"Accuracy for pK\":accuracy(prediction_labelled)[1]},ignore_index=True)\n",
    "PR_pK = recall_precision_pK(prediction_labelled,'PREVISE')\n",
    "PR_exit = recall_precision_exit(prediction_labelled,'PREVISE')\n",
    "PR_pK['CV'] = [n for a in range(len(PR_pK))]\n",
    "PR_exit['CV'] = [n for a in range(len(PR_exit))]\n",
    "PR_pK['Class type'] = ['pK' for a in range(len(PR_pK))]\n",
    "PR_exit['Class type'] = ['Exit' for a in range(len(PR_exit))]\n",
    "class_PR = class_PR.append(PR_pK)\n",
    "class_PR = class_PR.append(PR_exit)\n",
    "recall_pK = PR_pK.groupby(['K','Model']).mean().drop('Class',axis=1)['Recall'].values[0]\n",
    "recall_exit = PR_exit.groupby(['K','Model']).mean().drop('Class',axis=1)['Recall'].values[0]\n",
    "precision_pK = PR_pK.groupby(['K','Model']).mean().drop('Class',axis=1)['Precision'].values[0]\n",
    "precision_exit = PR_exit.groupby(['K','Model']).mean().drop('Class',axis=1)['Precision'].values[0]\n",
    "precision_recall_df = precision_recall_df.append({\"Model\":\"PREVISE\",\"K\":K,\"CV\":n,\"Recall for exit\":recall_exit,\"Recall for pK\":recall_pK,\"Precision for exit\":precision_exit,\"Precison for pK\":precision_pK},ignore_index=True)\n",
    "\n",
    "\n"
   ]
  },
  {
   "cell_type": "code",
   "execution_count": null,
   "id": "8c663dde",
   "metadata": {},
   "outputs": [],
   "source": []
  }
 ],
 "metadata": {
  "kernelspec": {
   "display_name": "Python 3",
   "language": "python",
   "name": "python3"
  },
  "language_info": {
   "codemirror_mode": {
    "name": "ipython",
    "version": 3
   },
   "file_extension": ".py",
   "mimetype": "text/x-python",
   "name": "python",
   "nbconvert_exporter": "python",
   "pygments_lexer": "ipython3",
   "version": "3.8.8"
  }
 },
 "nbformat": 4,
 "nbformat_minor": 5
}
